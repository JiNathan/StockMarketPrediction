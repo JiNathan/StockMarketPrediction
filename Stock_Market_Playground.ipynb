{
  "cells": [
    {
      "cell_type": "markdown",
      "metadata": {},
      "source": [
        "# Load News data from NewsAPI.org\n"
      ]
    },
    {
      "cell_type": "markdown",
      "metadata": {},
      "source": [
        "## First: Install python NewsAPI.org package\n",
        "\n",
        "Note: both pip and pip3 here. Please use the corresponding one\n"
      ]
    },
    {
      "cell_type": "code",
      "execution_count": 33,
      "metadata": {
        "colab": {
          "base_uri": "https://localhost:8080/"
        },
        "id": "NzwgdwVRt6zL",
        "outputId": "c11c921f-59cc-4eb9-f20a-22f95a2677ff"
      },
      "outputs": [
        {
          "name": "stdout",
          "output_type": "stream",
          "text": [
            "Requirement already satisfied: newsapi-python in /Library/Frameworks/Python.framework/Versions/3.11/lib/python3.11/site-packages (0.2.7)\n",
            "Requirement already satisfied: requests<3.0.0 in /Library/Frameworks/Python.framework/Versions/3.11/lib/python3.11/site-packages (from newsapi-python) (2.31.0)\n",
            "Requirement already satisfied: charset-normalizer<4,>=2 in /Library/Frameworks/Python.framework/Versions/3.11/lib/python3.11/site-packages (from requests<3.0.0->newsapi-python) (3.2.0)\n",
            "Requirement already satisfied: idna<4,>=2.5 in /Library/Frameworks/Python.framework/Versions/3.11/lib/python3.11/site-packages (from requests<3.0.0->newsapi-python) (3.4)\n",
            "Requirement already satisfied: urllib3<3,>=1.21.1 in /Library/Frameworks/Python.framework/Versions/3.11/lib/python3.11/site-packages (from requests<3.0.0->newsapi-python) (2.0.4)\n",
            "Requirement already satisfied: certifi>=2017.4.17 in /Library/Frameworks/Python.framework/Versions/3.11/lib/python3.11/site-packages (from requests<3.0.0->newsapi-python) (2023.7.22)\n",
            "\n",
            "\u001b[1m[\u001b[0m\u001b[34;49mnotice\u001b[0m\u001b[1;39;49m]\u001b[0m\u001b[39;49m A new release of pip is available: \u001b[0m\u001b[31;49m23.2.1\u001b[0m\u001b[39;49m -> \u001b[0m\u001b[32;49m23.3.1\u001b[0m\n",
            "\u001b[1m[\u001b[0m\u001b[34;49mnotice\u001b[0m\u001b[1;39;49m]\u001b[0m\u001b[39;49m To update, run: \u001b[0m\u001b[32;49mpython3 -m pip install --upgrade pip\u001b[0m\n",
            "Note: you may need to restart the kernel to use updated packages.\n"
          ]
        },
        {
          "name": "stderr",
          "output_type": "stream",
          "text": [
            "UsageError: Line magic function `%pip3` not found.\n"
          ]
        }
      ],
      "source": [
        "%pip install newsapi-python\n",
        "%pip3 install newsapi-python"
      ]
    },
    {
      "cell_type": "markdown",
      "metadata": {},
      "source": [
        "## Configure the NewsApiClient to connect to the API\n",
        "\n",
        "Thanks to whoever donated their key here; appreciated.\n"
      ]
    },
    {
      "cell_type": "code",
      "execution_count": 34,
      "metadata": {
        "id": "uAsYdK_XuBjt"
      },
      "outputs": [],
      "source": [
        "from newsapi import NewsApiClient\n",
        "#my api KEY: 00b3f189be5749b8b82314b9d9d5c5ef\n",
        "api = NewsApiClient(api_key='00b3f189be5749b8b82314b9d9d5c5ef')"
      ]
    },
    {
      "cell_type": "markdown",
      "metadata": {},
      "source": [
        "## Use pandas to store data\n",
        "\n",
        "sourceList --> stores the journal name (e.g., The Verge) from the source\n",
        "</br>\n",
        "timeList --> stores article publish date (UTC ISO 8061 format \"YYYY-MM-DDTHH-MM:SSZ\")\n",
        "</br>\n",
        "desList --> stores summary/description of the article\n",
        "</br>\n",
        "</br>\n",
        "NOTE: for raw data go here: https://newsapi.org/v2/everything?q=tesla&apiKey=00b3f189be5749b8b82314b9d9d5c5ef\n",
        "</br>\n",
        "Also, note that current query is for the string \"tesla\" only.\n"
      ]
    },
    {
      "cell_type": "code",
      "execution_count": 35,
      "metadata": {
        "id": "WgDyrbFbukMf"
      },
      "outputs": [],
      "source": [
        "# from numpy import source -- is this really needed here?\n",
        "import pandas as pd\n",
        "des_list = []\n",
        "source_list = []\n",
        "time_list = []\n",
        "news_data = (api.get_everything(q='tesla'))\n",
        "for article in news_data['articles']:\n",
        "  source_list.append(article['source']['name'])\n",
        "  time_list.append(article['publishedAt'])\n",
        "  des_list.append(article['description'])\n"
      ]
    },
    {
      "cell_type": "markdown",
      "metadata": {},
      "source": [
        "## Run Sentiment Analysis on the data\n",
        "\n",
        "NOTE: if on MacOS and getting \"SSL CERTIFICATE_VERIFY_FAILED\" error, then follow these instructions to install the certificates: https://stackoverflow.com/questions/40684543/how-to-make-python-use-ca-certificates-from-mac-os-truststore\n"
      ]
    },
    {
      "cell_type": "code",
      "execution_count": 36,
      "metadata": {
        "colab": {
          "base_uri": "https://localhost:8080/",
          "height": 458
        },
        "id": "6R6m-egOxc_p",
        "outputId": "eb507992-6edb-4708-9b97-0499111ad947"
      },
      "outputs": [
        {
          "name": "stderr",
          "output_type": "stream",
          "text": [
            "[nltk_data] Downloading package vader_lexicon to\n",
            "[nltk_data]     /Users/saad/nltk_data...\n",
            "[nltk_data]   Package vader_lexicon is already up-to-date!\n"
          ]
        },
        {
          "data": {
            "text/html": [
              "<div>\n",
              "<style scoped>\n",
              "    .dataframe tbody tr th:only-of-type {\n",
              "        vertical-align: middle;\n",
              "    }\n",
              "\n",
              "    .dataframe tbody tr th {\n",
              "        vertical-align: top;\n",
              "    }\n",
              "\n",
              "    .dataframe thead th {\n",
              "        text-align: right;\n",
              "    }\n",
              "</style>\n",
              "<table border=\"1\" class=\"dataframe\">\n",
              "  <thead>\n",
              "    <tr style=\"text-align: right;\">\n",
              "      <th></th>\n",
              "      <th>Sources</th>\n",
              "      <th>Description</th>\n",
              "      <th>Publishing</th>\n",
              "      <th>Sentiments</th>\n",
              "    </tr>\n",
              "  </thead>\n",
              "  <tbody>\n",
              "    <tr>\n",
              "      <th>0</th>\n",
              "      <td>The Verge</td>\n",
              "      <td>Tesla reported its Q3 earnings for 2023 in whi...</td>\n",
              "      <td>2023-10-18T20:44:47Z</td>\n",
              "      <td>0.4404</td>\n",
              "    </tr>\n",
              "    <tr>\n",
              "      <th>1</th>\n",
              "      <td>The Verge</td>\n",
              "      <td>Tesla will deliver the first units of its elec...</td>\n",
              "      <td>2023-10-18T20:58:48Z</td>\n",
              "      <td>-0.2960</td>\n",
              "    </tr>\n",
              "    <tr>\n",
              "      <th>2</th>\n",
              "      <td>The Verge</td>\n",
              "      <td>Hyundai will feature Tesla’s EV charging port ...</td>\n",
              "      <td>2023-10-05T12:05:00Z</td>\n",
              "      <td>0.1779</td>\n",
              "    </tr>\n",
              "    <tr>\n",
              "      <th>3</th>\n",
              "      <td>Engadget</td>\n",
              "      <td>Huawei\\r\\n is moving deeper into the electric ...</td>\n",
              "      <td>2023-09-25T20:09:18Z</td>\n",
              "      <td>0.4019</td>\n",
              "    </tr>\n",
              "    <tr>\n",
              "      <th>4</th>\n",
              "      <td>Engadget</td>\n",
              "      <td>NASA's pioneering OSIRIS-REx mission has succe...</td>\n",
              "      <td>2023-09-25T19:21:32Z</td>\n",
              "      <td>0.4939</td>\n",
              "    </tr>\n",
              "    <tr>\n",
              "      <th>...</th>\n",
              "      <td>...</td>\n",
              "      <td>...</td>\n",
              "      <td>...</td>\n",
              "      <td>...</td>\n",
              "    </tr>\n",
              "    <tr>\n",
              "      <th>95</th>\n",
              "      <td>heise online</td>\n",
              "      <td>Bei Tesla gibt es zurzeit vier große Projekte,...</td>\n",
              "      <td>2023-09-25T05:24:00Z</td>\n",
              "      <td>-0.5994</td>\n",
              "    </tr>\n",
              "    <tr>\n",
              "      <th>96</th>\n",
              "      <td>Uncrate.com</td>\n",
              "      <td>Safari all the cars. From classic and factory-...</td>\n",
              "      <td>2023-10-17T21:55:46Z</td>\n",
              "      <td>0.0790</td>\n",
              "    </tr>\n",
              "    <tr>\n",
              "      <th>97</th>\n",
              "      <td>Golem.de</td>\n",
              "      <td>Tesla greift zu radikalen Maßnahmen: Massive P...</td>\n",
              "      <td>2023-10-07T12:10:02Z</td>\n",
              "      <td>-0.5994</td>\n",
              "    </tr>\n",
              "    <tr>\n",
              "      <th>98</th>\n",
              "      <td>Ars Technica</td>\n",
              "      <td>Nissan has been able to satisfy the IRS's dome...</td>\n",
              "      <td>2023-10-16T16:16:28Z</td>\n",
              "      <td>0.4588</td>\n",
              "    </tr>\n",
              "    <tr>\n",
              "      <th>99</th>\n",
              "      <td>Ars Technica</td>\n",
              "      <td>The site was going to make lithium iron phosph...</td>\n",
              "      <td>2023-09-25T21:30:53Z</td>\n",
              "      <td>0.0000</td>\n",
              "    </tr>\n",
              "  </tbody>\n",
              "</table>\n",
              "<p>100 rows × 4 columns</p>\n",
              "</div>"
            ],
            "text/plain": [
              "         Sources                                        Description  \\\n",
              "0      The Verge  Tesla reported its Q3 earnings for 2023 in whi...   \n",
              "1      The Verge  Tesla will deliver the first units of its elec...   \n",
              "2      The Verge  Hyundai will feature Tesla’s EV charging port ...   \n",
              "3       Engadget  Huawei\\r\\n is moving deeper into the electric ...   \n",
              "4       Engadget  NASA's pioneering OSIRIS-REx mission has succe...   \n",
              "..           ...                                                ...   \n",
              "95  heise online  Bei Tesla gibt es zurzeit vier große Projekte,...   \n",
              "96   Uncrate.com  Safari all the cars. From classic and factory-...   \n",
              "97      Golem.de  Tesla greift zu radikalen Maßnahmen: Massive P...   \n",
              "98  Ars Technica  Nissan has been able to satisfy the IRS's dome...   \n",
              "99  Ars Technica  The site was going to make lithium iron phosph...   \n",
              "\n",
              "              Publishing  Sentiments  \n",
              "0   2023-10-18T20:44:47Z      0.4404  \n",
              "1   2023-10-18T20:58:48Z     -0.2960  \n",
              "2   2023-10-05T12:05:00Z      0.1779  \n",
              "3   2023-09-25T20:09:18Z      0.4019  \n",
              "4   2023-09-25T19:21:32Z      0.4939  \n",
              "..                   ...         ...  \n",
              "95  2023-09-25T05:24:00Z     -0.5994  \n",
              "96  2023-10-17T21:55:46Z      0.0790  \n",
              "97  2023-10-07T12:10:02Z     -0.5994  \n",
              "98  2023-10-16T16:16:28Z      0.4588  \n",
              "99  2023-09-25T21:30:53Z      0.0000  \n",
              "\n",
              "[100 rows x 4 columns]"
            ]
          },
          "metadata": {},
          "output_type": "display_data"
        }
      ],
      "source": [
        "# import the needed modules\n",
        "import nltk\n",
        "from nltk.sentiment import SentimentIntensityAnalyzer\n",
        "nltk.download('vader_lexicon')\n",
        "# Credit for vader module:\n",
        "'''Hutto, C.J. & Gilbert, E.E. (2014). \n",
        "VADER: A Parsimonious Rule-based Model for Sentiment Analysis of Social Media Text. \n",
        "Eighth International Conference on Weblogs and Social Media (ICWSM-14). Ann Arbor, MI, June 2014.'''\n",
        "\n",
        "# Function to analyze each text [description]\n",
        "sentiment_list = []\n",
        "def nltk_sentiment(sentence):\n",
        "  # NLTK analyzer provides 4 datapoints in a dictionary --> compound datapoint is used; \n",
        "  # Range is -1 to 1 where -1 being most negative and 1 being most positive\n",
        "  analyzer = SentimentIntensityAnalyzer()\n",
        "  return analyzer.polarity_scores(sentence)[\"compound\"]\n",
        "\n",
        "# call function for all data in dataset and store --> sentiment_list\n",
        "for i in des_list:\n",
        "  sentiment_list.append(nltk_sentiment(i))\n",
        "\n",
        "# Store in a Dataframe object; # Structure: \n",
        "# \"Sources\" [e.g., The Verge], \"Description\" [Summary text], \"Publishing\" [Date of publish], \"Sentiments\" [Sentiment on scale of -1 to 1]\n",
        "news_df = pd.DataFrame(list(zip(source_list, des_list, time_list, sentiment_list)), columns=['Sources','Description','Publishing','Sentiments'])\n",
        "display(news_df)"
      ]
    }
  ],
  "metadata": {
    "colab": {
      "provenance": []
    },
    "kernelspec": {
      "display_name": "Python 3",
      "name": "python3"
    },
    "language_info": {
      "codemirror_mode": {
        "name": "ipython",
        "version": 3
      },
      "file_extension": ".py",
      "mimetype": "text/x-python",
      "name": "python",
      "nbconvert_exporter": "python",
      "pygments_lexer": "ipython3",
      "version": "3.11.2"
    }
  },
  "nbformat": 4,
  "nbformat_minor": 0
}
